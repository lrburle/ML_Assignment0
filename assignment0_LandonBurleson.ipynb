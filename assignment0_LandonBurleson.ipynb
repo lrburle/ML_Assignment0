{
  "nbformat": 4,
  "nbformat_minor": 0,
  "metadata": {
    "colab": {
      "name": "assignment0_LandonBurleson.ipynb",
      "provenance": [],
      "collapsed_sections": []
    },
    "kernelspec": {
      "name": "python3",
      "display_name": "Python 3"
    },
    "language_info": {
      "name": "python"
    }
  },
  "cells": [
    {
      "cell_type": "markdown",
      "source": [
        "# Assignment 0 - Landon Burleson Fall 2022"
      ],
      "metadata": {
        "id": "S6q4EplZnvt3"
      }
    },
    {
      "cell_type": "markdown",
      "source": [
        "This assignment is used as an introduction to the python programming language in preparation for Machine Learning work flows. "
      ],
      "metadata": {
        "id": "jyZpTCJNbQEa"
      }
    },
    {
      "cell_type": "code",
      "source": [
        "!git clone https://github.com/lrburle/ML_Assignment0.git"
      ],
      "metadata": {
        "colab": {
          "base_uri": "https://localhost:8080/"
        },
        "id": "jBKGNaPASVyH",
        "outputId": "2fb67105-9057-419f-b88f-3c97f4c555be"
      },
      "execution_count": 1,
      "outputs": [
        {
          "output_type": "stream",
          "name": "stdout",
          "text": [
            "Cloning into 'ML_Assignment0'...\n",
            "remote: Enumerating objects: 9, done.\u001b[K\n",
            "remote: Counting objects: 100% (9/9), done.\u001b[K\n",
            "remote: Compressing objects: 100% (9/9), done.\u001b[K\n",
            "remote: Total 9 (delta 2), reused 4 (delta 0), pack-reused 0\u001b[K\n",
            "Unpacking objects: 100% (9/9), done.\n"
          ]
        }
      ]
    },
    {
      "cell_type": "code",
      "execution_count": 2,
      "metadata": {
        "id": "EKAA8l0pLEWX"
      },
      "outputs": [],
      "source": [
        "import numpy as np\n",
        "import matplotlib.pyplot as plt\n",
        "import cv2 as cv\n",
        "from google.colab.patches import cv2_imshow"
      ]
    },
    {
      "cell_type": "markdown",
      "source": [
        "The above code snippet shows the imported modules needed for this assignment. \n"
      ],
      "metadata": {
        "id": "7kZ5B5vIOAvc"
      }
    },
    {
      "cell_type": "code",
      "source": [
        "class assign0:\n",
        "        def __init__(self):\n",
        "                offset = 1\n",
        "                self.dict = {\"a\":  offset, \n",
        "                             \"b\" : offset,\n",
        "                             \"c\" : offset,\n",
        "                             \"d\" : offset,\n",
        "                             \"e\" : offset,\n",
        "                             \"f\" : offset,\n",
        "                             \"g\" : offset,\n",
        "                             \"h\" : offset,\n",
        "                             \"i\" : offset, \n",
        "                             \"j\" : offset, \n",
        "                             \"k\" : offset,\n",
        "                             \"l\" : offset, \n",
        "                             \"m\" : offset, \n",
        "                             \"n\" : offset, \n",
        "                             \"o\" : offset, \n",
        "                             \"p\" : offset, \n",
        "                             \"q\" : offset, \n",
        "                             \"r\" : offset, \n",
        "                             \"s\" : offset, \n",
        "                             \"t\" : offset, \n",
        "                             \"u\" : offset, \n",
        "                             \"v\" : offset, \n",
        "                             \"w\" : offset, \n",
        "                             \"x\" : offset,\n",
        "                             \"y\" : offset, \n",
        "                             \"z\" : offset}\n",
        "        def problem1(self):\n",
        "                        with open('./ML_Assignment0/test.txt', 'r') as f: #Open the test.txt file for reading.\n",
        "                                lines = f.readlines() #Read all the lines in the aforementioned file.\n",
        "\n",
        "                                for line in lines: #Iterate through line by line through the file.\n",
        "                                        for letter in line: #Iterate through each character of the string line.\n",
        "                                                if letter.lower() in self.dict.keys(): #Use the .lower() method to make sure capital letters are caught and iterated within the dictionary initialized in the constructor of the class.\n",
        "                                                        self.dict[letter.lower()] += 1 #Iterate on the matching lower case letter found in the dictionary.\n",
        "\n",
        "                        arr = np.array(list(self.dict.values())) #Convert the values found in the dictionary to a numpy array\n",
        "                        total = arr.sum() #Sum the elements of the array.\n",
        "                        narr = arr.astype(float) / total; #Normalize the array.\n",
        "\n",
        "                        fig = plt.figure(figsize=[25, 12]) #Plot the figure with a size of 25, 12.\n",
        "                        letters = list(self.dict.keys()) #Create the x-axis values from the letters fround in the dictionary key column.\n",
        "                        values = list(self.dict.values()) #Grab the values from the dictionary. \n",
        "                        plt.subplot(1, 2, 1) #Place the plots in a 1x2 grid. \n",
        "                        plt.bar(letters, values) #Plot a bar graph. \n",
        "                        plt.xlabel('Letters') #label the x-axis\n",
        "                        plt.ylabel('Number of letters') #label the y-axis\n",
        "                        plt.title('Number of Letter Instances vs Letters (Un-normalized)') #Create a title. \n",
        "\n",
        "                        plt.subplot(1, 2, 2) #Place the Normalized histigram in the second slot in the grid. \n",
        "                        plt.bar(letters, narr) #Use the letters again for the x-axis and plot the magnitude with the narr array. \n",
        "                        plt.xlabel('Letters')\n",
        "                        plt.ylabel('Number of letters')\n",
        "                        plt.title('Number of Letter Instances vs Letters (Normalized)')\n",
        "                        plt.savefig('histogram_plots.png')\n",
        "\n",
        "\n",
        "                        print(f'The dictionary is found here:{self.dict}')\n",
        "                        print(f'Numpy array of un-normalized values: {arr}')\n",
        "                        print(f'Numpy array of normalized values: {narr}')\n",
        "\n",
        "        def problem2(self):\n",
        "                        points = np.array([[255, 0,  0], [0, 255, 0], [0,0,255]]) #Create an array of the three points. \n",
        "                        I = cv.imread('./ML_Assignment0/test.png') #Read in the image test.png.\n",
        "                        row, col, _ = I.shape #Grab the row and column size metrics from the image. Ommit the color channel. \n",
        "                        O = np.zeros((row, col, 3), dtype=int) #Create an empty 3D array with initialized values of 0. \n",
        "\n",
        "                        for i in range(row): #Iterate through each row of the image using the i variable. \n",
        "                                for j in range(col): #Iterate through each column of the image using the j variable. \n",
        "                                        current_point = np.array(I[i, j, :]) #Grabs the current RGB point value for comparison using the Euclidian distance. \n",
        "                                        p = self.euclidian(current_point, points) #Uses the defined Euclidian distance function below for the closeness analysis. \n",
        "                                        O[i,j] = p #Sets the point in the empty array to the appropriate RGB point value based on the Euclidian calculation. \n",
        "                        print('Output from the color segmentation of test.png')\n",
        "                        cv2_imshow(O)\n",
        "                        cv.imwrite('./output1.png', O) #Writes the output image. \n",
        "\n",
        "                        O2 = I #Initializes O2 as equal to the original test.png image. \n",
        "                        rowLower = int((row / 2) - 25) #Finds the four corners of the 50 pixel square to cut out the black box in the image.  \n",
        "                        rowUpper = int((row / 2) + 25)\n",
        "                        colLower = int((col / 2) - 25)\n",
        "                        colUpper = int((col / 2) + 25)\n",
        "\n",
        "                        O2[rowLower:rowUpper,colLower:colUpper, :] = [0, 0, 0] #Sets the appropriate pixels to the black (0, 0, 0) RGB value. \n",
        "                        cv2_imshow(O2)\n",
        "                        print('Output from the second part of problem 2. Setting the middle of the image as a black box.')\n",
        "                        cv.imwrite('./output2.png', O2) #Writes the to the output2.png image. \n",
        "\n",
        "        def euclidian(self, p, p2): #Euclidian distance used to calculate the relationship found above in problem2.\n",
        "                d = []\n",
        "\n",
        "                for itr, arr in enumerate(p2):\n",
        "                        sub = (arr - p)**2\n",
        "                        d.append(np.sqrt(sub.sum())) \n",
        "\n",
        "                        if itr == 0:\n",
        "                                current_lowest = d[0] \n",
        "                                point_value = arr\n",
        "                        if d[itr] < current_lowest: #Finds the current lowest distance and sets the point_value that point. \n",
        "                                current_lowest = d[0] \n",
        "                                point_value = arr\n",
        "                        else:\n",
        "                                continue\n",
        "                \n",
        "                return point_value \n",
        "                \n",
        "        def problem3(self): \n",
        "                        a = np.array([[3, 3], [4, 2]]) #Sets the values of the system of equations for the word problem. I get 3 soft tacos and 3 burroitos. My friend gets 4 soft tacos and 2 burritos.\n",
        "                        b = np.array([[11.25], [10.00]]) # Sets the total for my bill and my friends bill. \n",
        "\n",
        "                        det = np.linalg.det(a) #Makes sure the matrix is a valid square matrix. \n",
        "\n",
        "                        x = np.linalg.solve(a, b) #Solves the linear equations using the linalg.solve function. Ax = B \n",
        "\n",
        "                        print(f'The soft tacos are ${float(x[0]):.2f} and the burritos are ${float(x[1]):.2f}') #Outputs the value of the Tacos and Burritos by rounding to two decimal places. "
      ],
      "metadata": {
        "id": "kfq0iKqPOh5P"
      },
      "execution_count": 3,
      "outputs": []
    },
    {
      "cell_type": "markdown",
      "source": [
        "The code found below assigns the a0 variable to the object assign0 defined by the assign0 class found above. The object a0 is then used to call the various problem code found above. "
      ],
      "metadata": {
        "id": "SScfV4X-P0Dg"
      }
    },
    {
      "cell_type": "code",
      "source": [
        "if __name__ == '__main__':\n",
        "        a0 = assign0()"
      ],
      "metadata": {
        "id": "3HvbVrmvPwGZ"
      },
      "execution_count": 4,
      "outputs": []
    },
    {
      "cell_type": "markdown",
      "source": [
        "# Problem 1 "
      ],
      "metadata": {
        "id": "KVFnCgVzn5q6"
      }
    },
    {
      "cell_type": "markdown",
      "source": [
        "Found below is the problem 1 call. The code for problem 1 is defined inside of the class assign0 found above. "
      ],
      "metadata": {
        "id": "JpPg4pDCi2ul"
      }
    },
    {
      "cell_type": "code",
      "source": [
        "a0.problem1()"
      ],
      "metadata": {
        "colab": {
          "base_uri": "https://localhost:8080/",
          "height": 294
        },
        "id": "cBztemHnh_5D",
        "outputId": "f867565e-163c-479d-db78-092f243aca07"
      },
      "execution_count": 5,
      "outputs": [
        {
          "output_type": "error",
          "ename": "FileNotFoundError",
          "evalue": "ignored",
          "traceback": [
            "\u001b[0;31m---------------------------------------------------------------------------\u001b[0m",
            "\u001b[0;31mFileNotFoundError\u001b[0m                         Traceback (most recent call last)",
            "\u001b[0;32m<ipython-input-5-822afbf0112d>\u001b[0m in \u001b[0;36m<module>\u001b[0;34m\u001b[0m\n\u001b[0;32m----> 1\u001b[0;31m \u001b[0ma0\u001b[0m\u001b[0;34m.\u001b[0m\u001b[0mproblem1\u001b[0m\u001b[0;34m(\u001b[0m\u001b[0;34m)\u001b[0m\u001b[0;34m\u001b[0m\u001b[0;34m\u001b[0m\u001b[0m\n\u001b[0m",
            "\u001b[0;32m<ipython-input-3-4e28e520e37d>\u001b[0m in \u001b[0;36mproblem1\u001b[0;34m(self)\u001b[0m\n\u001b[1;32m     29\u001b[0m                              \"z\" : offset}\n\u001b[1;32m     30\u001b[0m         \u001b[0;32mdef\u001b[0m \u001b[0mproblem1\u001b[0m\u001b[0;34m(\u001b[0m\u001b[0mself\u001b[0m\u001b[0;34m)\u001b[0m\u001b[0;34m:\u001b[0m\u001b[0;34m\u001b[0m\u001b[0;34m\u001b[0m\u001b[0m\n\u001b[0;32m---> 31\u001b[0;31m                         \u001b[0;32mwith\u001b[0m \u001b[0mopen\u001b[0m\u001b[0;34m(\u001b[0m\u001b[0;34m'test.txt'\u001b[0m\u001b[0;34m,\u001b[0m \u001b[0;34m'r'\u001b[0m\u001b[0;34m)\u001b[0m \u001b[0;32mas\u001b[0m \u001b[0mf\u001b[0m\u001b[0;34m:\u001b[0m \u001b[0;31m#Open the test.txt file for reading.\u001b[0m\u001b[0;34m\u001b[0m\u001b[0;34m\u001b[0m\u001b[0m\n\u001b[0m\u001b[1;32m     32\u001b[0m                                 \u001b[0mlines\u001b[0m \u001b[0;34m=\u001b[0m \u001b[0mf\u001b[0m\u001b[0;34m.\u001b[0m\u001b[0mreadlines\u001b[0m\u001b[0;34m(\u001b[0m\u001b[0;34m)\u001b[0m \u001b[0;31m#Read all the lines in the aforementioned file.\u001b[0m\u001b[0;34m\u001b[0m\u001b[0;34m\u001b[0m\u001b[0m\n\u001b[1;32m     33\u001b[0m \u001b[0;34m\u001b[0m\u001b[0m\n",
            "\u001b[0;31mFileNotFoundError\u001b[0m: [Errno 2] No such file or directory: 'test.txt'"
          ]
        }
      ]
    },
    {
      "cell_type": "markdown",
      "source": [
        "# Problem 2"
      ],
      "metadata": {
        "id": "3aQhsWskn9pt"
      }
    },
    {
      "cell_type": "markdown",
      "source": [
        "Found below is the problem 2 execution code. The source code can be found in the problem2 method found in the assign0 class. "
      ],
      "metadata": {
        "id": "pXcpsui0jwiR"
      }
    },
    {
      "cell_type": "code",
      "source": [
        "a0.problem2()"
      ],
      "metadata": {
        "colab": {
          "base_uri": "https://localhost:8080/",
          "height": 309
        },
        "id": "WKODgzSIjmh7",
        "outputId": "ffe46295-f459-4043-d3df-cb9212f0493e"
      },
      "execution_count": null,
      "outputs": [
        {
          "output_type": "stream",
          "name": "stdout",
          "text": [
            "Output from the color segmentation of test.png\n"
          ]
        },
        {
          "output_type": "display_data",
          "data": {
            "text/plain": [
              "<PIL.Image.Image image mode=RGB size=128x128 at 0x7F72482D7D10>"
            ],
            "image/png": "[encoded data removed]"
          },
          "metadata": {}
        },
        {
          "output_type": "display_data",
          "data": {
            "text/plain": [
              "<PIL.Image.Image image mode=RGB size=128x128 at 0x7F724829D790>"
            ],
            "image/png": "[encoded data removed]"
          },
          "metadata": {}
        },
        {
          "output_type": "stream",
          "name": "stdout",
          "text": [
            "Output from the second part of problem 2. Setting the middle of the image as a black box.\n"
          ]
        }
      ]
    },
    {
      "cell_type": "markdown",
      "source": [
        "# Problem 3 "
      ],
      "metadata": {
        "id": "JLDMoIvNoAye"
      }
    },
    {
      "cell_type": "code",
      "source": [
        "a0.problem3()"
      ],
      "metadata": {
        "colab": {
          "base_uri": "https://localhost:8080/"
        },
        "id": "MdFLQCWPlIOp",
        "outputId": "47279d53-efb3-4cc3-84ca-d08ed9c415c4"
      },
      "execution_count": null,
      "outputs": [
        {
          "output_type": "stream",
          "name": "stdout",
          "text": [
            "The soft tacos are $1.25 and the burritos are $2.50\n"
          ]
        }
      ]
    }
  ]
}